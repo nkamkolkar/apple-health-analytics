{
 "cells": [
  {
   "cell_type": "markdown",
   "metadata": {},
   "source": [
    "# Data Literacy\n",
    "I chose to read my yoga workout routines from my apple watch. I exported the health data, read it into a data frame and summarized the key metrics. \n"
   ]
  },
  {
   "cell_type": "code",
   "execution_count": 1,
   "metadata": {},
   "outputs": [],
   "source": [
    "import pandas as pd\n",
    "import xml.etree.ElementTree\n",
    "import datetime\n",
    "import numpy as np \n",
    "path_to_exportxml = \"export.xml\"\n",
    "\n"
   ]
  },
  {
   "cell_type": "code",
   "execution_count": 2,
   "metadata": {},
   "outputs": [],
   "source": [
    "# HK Record Schema \n",
    "\n",
    "# <Record type=\"HKQuantityTypeIdentifierHeartRate\" sourceName=\"Neelesh’s Apple Watch\" sourceVersion=\"5.0.1\" device=\"&lt;&lt;HKDevice: 0x2827b98b0&gt;, name:Apple Watch, manufacturer:Apple, model:Watch, hardware:Watch4,4, software:5.0.1&gt;\" unit=\"count/min\" creationDate=\"2018-12-16 22:50:29 -0700\" startDate=\"2018-12-16 22:50:24 -0700\" endDate=\"2018-12-16 22:50:24 -0700\" value=\"68\">\n",
    "#  <MetadataEntry key=\"HKMetadataKeyHeartRateMotionContext\" value=\"0\"/>\n",
    "# </Record>\n",
    "\n",
    "#<Workout workoutActivityType=\"HKWorkoutActivityTypeYoga\" duration=\"30.15948544939359\" durationUnit=\"min\" totalDistance=\"0\" totalDistanceUnit=\"mi\" totalEnergyBurned=\"93.80830393469761\" totalEnergyBurnedUnit=\"kcal\" sourceName=\"Neelesh’s Apple Watch\" sourceVersion=\"5.0.1\" device=\"&lt;&lt;HKDevice: 0x282556350&gt;, name:Apple Watch, manufacturer:Apple, model:Watch, hardware:Watch4,4, software:5.0.1&gt;\" creationDate=\"2018-12-24 22:06:28 -0700\" startDate=\"2018-12-24 21:36:18 -0700\" endDate=\"2018-12-24 22:06:28 -0700\">\n",
    "#  <MetadataEntry key=\"HKIndoorWorkout\" value=\"0\"/>\n",
    "#</Workout>\n",
    "\n",
    "HeartRate = \"HKQuantityTypeIdentifierHeartRate\" \n",
    "Yoga = \"HKWorkoutActivityTypeYoga\"\n",
    "Walking = \"HKWorkoutActivityTypeWalking\"\n",
    "Meditation = \"HKWorkoutActivityTypeMindAndBody\"\n"
   ]
  },
  {
   "cell_type": "code",
   "execution_count": 3,
   "metadata": {},
   "outputs": [],
   "source": [
    "#Adapted from Thomas Willey's https://gist.github.com/thomaswilley/5079f1106b1ddf2c71b6\n",
    "\n",
    "find_rec_workout = './/Workout'\n",
    "find_rec_record = './/Record'\n",
    "\n",
    "def iter_records(healthdata, find_rec_name):\n",
    "    healthdata_attr = healthdata.attrib\n",
    "    for rec in healthdata.iterfind(find_rec_name):\n",
    "        rec_dict = healthdata_attr.copy()\n",
    "        rec_dict.update(healthdata.attrib)\n",
    "        for k, v in rec.attrib.items():\n",
    "            if 'date' in k.lower():\n",
    "                rec_dict[k] = datetime.datetime.strptime(v, '%Y-%m-%d %H:%M:%S %z')\n",
    "                \n",
    "            rec_dict[k] = v    \n",
    "        yield rec_dict\n",
    "\n",
    "e = xml.etree.ElementTree.parse(path_to_exportxml).getroot()\n",
    "df_workouts = pd.DataFrame(list(iter_records(e,find_rec_workout)))\n",
    "df_records = pd.DataFrame(list(iter_records(e, find_rec_record)))\n"
   ]
  },
  {
   "cell_type": "code",
   "execution_count": 4,
   "metadata": {},
   "outputs": [],
   "source": [
    "## I wanted to create different data frames for each activity and interesting metric. So, I created a data frame first for the heart rate data \n",
    "\n",
    "heart_rate_df = df_records[df_records['type'] == HeartRate]\n",
    "\n",
    "hr_cols = ['value', 'unit', 'creationDate', 'startDate', 'endDate']\n",
    "\n",
    "heart_rate_df[hr_cols].head(10)\n",
    "#heart_rate_df.info()\n",
    "heart_rate_df.to_csv(\"heart_rate.csv\")\n",
    "\n",
    "#when I run this locally i want to be able to just write out a separate CSV file so I can analyze these data with Tableau\n",
    "#heart_rate_df.to_csv(\"heart_rate.csv\")\n",
    "                           "
   ]
  },
  {
   "cell_type": "code",
   "execution_count": 5,
   "metadata": {},
   "outputs": [],
   "source": [
    "## Then I created a data frame for each activity type\n",
    "\n",
    "yoga_df = df_workouts[df_workouts['workoutActivityType'] == 'HKWorkoutActivityTypeYoga'] \n",
    "\n",
    "running_df = df_workouts[df_workouts['workoutActivityType'] == 'HKWorkoutActivityTypeRunning'] \n",
    "\n",
    "walking_df = df_workouts[df_workouts['workoutActivityType'] == 'HKWorkoutActivityTypeWalking'] \n",
    "\n",
    "meditation_df = df_workouts[df_workouts['workoutActivityType'] == 'HKWorkoutActivityTypeMindAndBody'] \n",
    "\n",
    "\n",
    "#for local use to write out CSVs for analysis\n",
    "#yoga_df.to_csv(\"yoga_workout.csv\")\n",
    "#running_df.to_csv(\"running_workout.csv\")\n",
    "#walking_df.to_csv(\"walking_workout.csv\")\n",
    "#meditation_df.to_csv(\"meditation_workout.csv\")\n",
    "\n",
    "yoga_df.to_csv(\"yoga_workout.csv\")\n",
    "running_df.to_csv(\"running_workout.csv\")\n",
    "walking_df.to_csv(\"walking_workout.csv\")\n",
    "meditation_df.to_csv(\"meditation_workout.csv\")\n"
   ]
  },
  {
   "cell_type": "code",
   "execution_count": 56,
   "metadata": {},
   "outputs": [
    {
     "name": "stdout",
     "output_type": "stream",
     "text": [
      "max activity duration : 92.60 on date: 09/01/2019\n"
     ]
    }
   ],
   "source": [
    "# utility functions/code. \n",
    "#get the row where the column value of duration is max, from that row select the 4th column which is the end date\n",
    "\n",
    "\n",
    "\n",
    "def get_date_for_max_activity(yoga_df):\n",
    "    max_row = yoga_df[yoga_df['duration'] == yoga_df['duration'].max()]\n",
    "    d = get_formatted_date(max_row['endDate']\n",
    "    duration = str(yoga_df['duration'].max())\n",
    "    duration = duration[0:5] #- just get short form\n",
    "    return d, duration\n",
    "\n",
    "def get_date_for_min_activity(yoga_df):\n",
    "    max_row = yoga_df[yoga_df['duration'] == yoga_df['duration'].min()]\n",
    "    d = min_row['endDate']\n",
    "    duration = str(yoga_df['duration'].min())\n",
    "    duration = duration[0:5] #- just get short form\n",
    "    return d, duration\n",
    "\n",
    "#Return a formatted date as string with updated format of M/D/Y\n",
    "def get_formatted_date(aDate):\n",
    "  d = pd.to_datetime(aDate)\n",
    "  d = pd.Series(d)\n",
    "  d = d.dt.strftime('%m/%d/%Y')\n",
    "  d = d.iloc[0]\n",
    "  return d\n",
    "\n",
    "#get row with max duration for activity\n",
    "date, duration = get_date_for_max_activity(yoga_df)\n",
    "print(f\"max activity duration : {duration} on date: {get_formatted_date(date)}\")\n",
    "\n",
    "#d = get_formatted_date(d)\n",
    "#print(d)"
   ]
  },
  {
   "cell_type": "code",
   "execution_count": 76,
   "metadata": {},
   "outputs": [
    {
     "name": "stdout",
     "output_type": "stream",
     "text": [
      "There are a total of 363 records of me doing yoga as an activity between 12/20/2018 and the last day of activity before the export of data on 04/03/2020.\n",
      "\n",
      "On average, my yoga session lasted for 50.11466450496921 minutes.\n",
      "Wait, what was the longest session? Turns out, my longest yoga sitting was 92.60 min on 09/01/2019\n",
      "\n",
      "The shortest? Well, shortest yoga sitting was 1.270 mins on 01/26/2019\n",
      "The shortest was likely me phat fingering my iPhone screen\n",
      "\n",
      "Hmm...wonder what I was thinking then?\n",
      "During the same time, I meditated a total of 280 times with an average meditation duration of 25.621953048074534! \n",
      "There were several times where I must have forgotten to turn off the meditation workout activity.\n",
      "How do I know that, because I don't see myself sitting still for 1172.445536818107 minutes in one sitting! \n",
      "HAHAHA\n",
      "\n",
      "I still continue to do my yoga and monitor the times but this was a fun data exercise\n"
     ]
    }
   ],
   "source": [
    "#Here is a data story \n",
    "\n",
    "print(f\"There are a total of {yoga_df['duration'].count()} records of me doing yoga as an activity between {get_formatted_date(yoga_df['creationDate'].min())} and the last day of activity before the export of data on {get_formatted_date(yoga_df['creationDate'].max())}.\")\n",
    "\n",
    "print(\"\")\n",
    "\n",
    "print(f\"On average, my yoga session lasted for {str(yoga_df['duration'].astype('float').mean())[0:]} minutes.\")\n",
    "\n",
    "date, duration = get_date_for_max_activity(yoga_df)\n",
    "print(f\"Wait, what was the longest session? Turns out, my longest yoga sitting was {duration} min on {get_formatted_date(date)}\")\n",
    "\n",
    "print(\"\")\n",
    "date, duration = get_date_for_min_activity(yoga_df)\n",
    "print(f\"The shortest? Well, shortest yoga sitting was {duration} mins on {get_formatted_date(date)}\")\n",
    "\n",
    "print(\"The shortest was likely me phat fingering my iPhone screen\\n\")\n",
    "\n",
    "\n",
    "print(\"Hmm...wonder what I was thinking then?\")\n",
    "\n",
    "print(f\"During the same time, I meditated a total of {meditation_df['duration'].count()} times with an average meditation duration of {meditation_df['duration'].astype('float').mean()}! \\nThere were several times where I must have forgotten to turn off the meditation workout activity.\\nHow do I know that, because I don't see myself sitting still for {meditation_df['duration'].astype('float').max()} minutes in one sitting! \\nHAHAHA\")\n",
    "\n",
    "print(\"\")\n",
    "\n",
    "print(f\"I still continue to do my yoga and monitor the times but this was a fun data exercise\")\n",
    "\n",
    "\n"
   ]
  },
  {
   "cell_type": "code",
   "execution_count": null,
   "metadata": {},
   "outputs": [],
   "source": []
  },
  {
   "cell_type": "code",
   "execution_count": null,
   "metadata": {},
   "outputs": [],
   "source": []
  }
 ],
 "metadata": {
  "kernelspec": {
   "display_name": "Python 3",
   "language": "python",
   "name": "python3"
  },
  "language_info": {
   "codemirror_mode": {
    "name": "ipython",
    "version": 3
   },
   "file_extension": ".py",
   "mimetype": "text/x-python",
   "name": "python",
   "nbconvert_exporter": "python",
   "pygments_lexer": "ipython3",
   "version": "3.7.6"
  }
 },
 "nbformat": 4,
 "nbformat_minor": 4
}
